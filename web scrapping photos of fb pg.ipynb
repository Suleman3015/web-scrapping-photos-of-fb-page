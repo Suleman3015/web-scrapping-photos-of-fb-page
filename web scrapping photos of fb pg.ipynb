{
 "cells": [
  {
   "cell_type": "code",
   "execution_count": 1,
   "metadata": {},
   "outputs": [],
   "source": [
    "import http.cookiejar\n",
    "import urllib.request\n",
    "import requests\n",
    "import bs4\n"
   ]
  },
  {
   "cell_type": "code",
   "execution_count": 2,
   "metadata": {},
   "outputs": [],
   "source": [
    "cj = http.cookiejar.CookieJar()\n",
    "opener = urllib.request.build_opener(urllib.request.HTTPCookieProcessor(cj))\n"
   ]
  },
  {
   "cell_type": "code",
   "execution_count": 3,
   "metadata": {},
   "outputs": [],
   "source": [
    "urllib.request.install_opener(opener)"
   ]
  },
  {
   "cell_type": "code",
   "execution_count": 4,
   "metadata": {},
   "outputs": [],
   "source": [
    "authentication_url = \"https://m.facebook.com/login.php\""
   ]
  },
  {
   "cell_type": "code",
   "execution_count": 10,
   "metadata": {},
   "outputs": [],
   "source": [
    "payload = {\n",
    "    'email':\"\",\n",
    "    'pass': \"\"\n",
    "}"
   ]
  },
  {
   "cell_type": "code",
   "execution_count": 6,
   "metadata": {},
   "outputs": [],
   "source": [
    "data = urllib.parse.urlencode(payload).encode('utf-8')\n",
    "req = urllib.request.Request(authentication_url,data)\n",
    "resp = urllib.request.urlopen(req)\n",
    "content = resp.read()\n",
    "#print(content)"
   ]
  },
  {
   "cell_type": "code",
   "execution_count": 9,
   "metadata": {},
   "outputs": [
    {
     "name": "stdout",
     "output_type": "stream",
     "text": [
      "https://mbasic.facebook.com/suleman.ahmed.12914/photoset/pb.100007588503963.-2207520000.1565272736./?owner_id=100007588503963&back_uri=%2Fsuleman.ahmed.12914%2Fphotos%2F\n",
      "https://mbasic.facebook.com/suleman.ahmed.12914/photoset/pb.100007588503963.-2207520000.1565272736./?owner_id=100007588503963&back_uri=%2Fsuleman.ahmed.12914%2Fphotos%2F\n",
      "https://mbasic.facebook.com/suleman.ahmed.12914/photoset/pb.100007588503963.-2207520000.1565272736./?owner_id=100007588503963&back_uri=%2Fsuleman.ahmed.12914%2Fphotos%2F\n",
      "https://mbasic.facebook.com/suleman.ahmed.12914/photoset/pb.100007588503963.-2207520000.1565272736./?owner_id=100007588503963&back_uri=%2Fsuleman.ahmed.12914%2Fphotos%2F\n",
      "https://mbasic.facebook.com/suleman.ahmed.12914/photoset/pb.100007588503963.-2207520000.1565272736./?owner_id=100007588503963&back_uri=%2Fsuleman.ahmed.12914%2Fphotos%2F\n",
      "https://mbasic.facebook.com/suleman.ahmed.12914/photoset/pb.100007588503963.-2207520000.1565272736./?owner_id=100007588503963&back_uri=%2Fsuleman.ahmed.12914%2Fphotos%2F\n"
     ]
    },
    {
     "ename": "TypeError",
     "evalue": "must be str, not int",
     "output_type": "error",
     "traceback": [
      "\u001b[1;31m---------------------------------------------------------------------------\u001b[0m",
      "\u001b[1;31mTypeError\u001b[0m                                 Traceback (most recent call last)",
      "\u001b[1;32m<ipython-input-9-64088e1f9c0f>\u001b[0m in \u001b[0;36m<module>\u001b[1;34m\u001b[0m\n\u001b[0;32m     16\u001b[0m \u001b[0mnum\u001b[0m \u001b[1;33m=\u001b[0m \u001b[1;36m0\u001b[0m\u001b[1;33m\u001b[0m\u001b[1;33m\u001b[0m\u001b[0m\n\u001b[0;32m     17\u001b[0m \u001b[1;32mfor\u001b[0m \u001b[0murl\u001b[0m \u001b[1;32min\u001b[0m \u001b[0mz\u001b[0m\u001b[1;33m:\u001b[0m\u001b[1;33m\u001b[0m\u001b[1;33m\u001b[0m\u001b[0m\n\u001b[1;32m---> 18\u001b[1;33m     \u001b[0murl\u001b[0m \u001b[1;33m=\u001b[0m \u001b[1;34m\"https://mbasic.facebook.com/suleman.ahmed.12914/photoset/pb.100007588503963.-2207520000.1565272736./?owner_id=100007588503963&back_uri=%2Fsuleman.ahmed.12914%2Fphotos%2F\"\u001b[0m \u001b[1;33m+\u001b[0m \u001b[0murl\u001b[0m\u001b[1;33m\u001b[0m\u001b[1;33m\u001b[0m\u001b[0m\n\u001b[0m\u001b[0;32m     19\u001b[0m     \u001b[0mdata\u001b[0m \u001b[1;33m=\u001b[0m \u001b[0mrequests\u001b[0m\u001b[1;33m.\u001b[0m\u001b[0mget\u001b[0m\u001b[1;33m(\u001b[0m\u001b[0murl\u001b[0m \u001b[1;33m,\u001b[0m \u001b[0mcookies\u001b[0m \u001b[1;33m=\u001b[0m \u001b[0mcj\u001b[0m\u001b[1;33m)\u001b[0m\u001b[1;33m\u001b[0m\u001b[1;33m\u001b[0m\u001b[0m\n\u001b[0;32m     20\u001b[0m     \u001b[0msoup\u001b[0m \u001b[1;33m=\u001b[0m \u001b[0mbs4\u001b[0m\u001b[1;33m.\u001b[0m\u001b[0mBeautifulSoup\u001b[0m\u001b[1;33m(\u001b[0m\u001b[0mdata\u001b[0m\u001b[1;33m.\u001b[0m\u001b[0mtext\u001b[0m\u001b[1;33m,\u001b[0m\u001b[1;34m'html.parser'\u001b[0m\u001b[1;33m)\u001b[0m\u001b[1;33m\u001b[0m\u001b[1;33m\u001b[0m\u001b[0m\n",
      "\u001b[1;31mTypeError\u001b[0m: must be str, not int"
     ]
    }
   ],
   "source": [
    "url = \"https://mbasic.facebook.com/suleman.ahmed.12914/photoset/pb.100007588503963.-2207520000.1565272736./?owner_id=100007588503963&back_uri=%2Fsuleman.ahmed.12914%2Fphotos%2F\"\n",
    "z = [0]\n",
    "index = 0\n",
    "while (index<6):\n",
    "    data = requests.get(url, cookies=cj)\n",
    "    soup = bs4.BeautifulSoup(data.text,'html.parser')\n",
    "    print(url)\n",
    "    for i in soup.find_all('a', href = True):\n",
    "        if i['href'][0:15] == \"/photo.php?fbid=\":\n",
    "            z.append(i['href'])\n",
    "        if i.text.lower() == \"show more\":\n",
    "            url = 'https://mbasic.facebook.com/suleman.ahmed.12914/photoset/pb.100007588503963.-2207520000.1565272736./?owner_id=100007588503963&back_uri=%2Fsuleman.ahmed.12914%2Fphotos%2F'+ i['href']\n",
    "    index = index + 1\n",
    "    \n",
    "photos = []\n",
    "num = 0\n",
    "for url in z:\n",
    "    url = \"https://mbasic.facebook.com/suleman.ahmed.12914/photoset/pb.100007588503963.-2207520000.1565272736./?owner_id=100007588503963&back_uri=%2Fsuleman.ahmed.12914%2Fphotos%2F\" + url\n",
    "    data = requests.get(url , cookies = cj)\n",
    "    soup = bs4.BeautifulSoup(data.text,'html.parser')\n",
    "    for i in soup.find_all('a', href = True):\n",
    "        if i.text.lower() == \"view full size\":\n",
    "            photos.append(i['href'])\n",
    "            urllib.request.urlretrieve(i['href'], str(num) + 'jpg')\n",
    "            num = num+1\n",
    "            \n",
    "print(len(photos))\n",
    "print(photos)\n",
    "            \n",
    "    "
   ]
  },
  {
   "cell_type": "code",
   "execution_count": null,
   "metadata": {},
   "outputs": [],
   "source": []
  }
 ],
 "metadata": {
  "kernelspec": {
   "display_name": "Python 3",
   "language": "python",
   "name": "python3"
  },
  "language_info": {
   "codemirror_mode": {
    "name": "ipython",
    "version": 3
   },
   "file_extension": ".py",
   "mimetype": "text/x-python",
   "name": "python",
   "nbconvert_exporter": "python",
   "pygments_lexer": "ipython3",
   "version": "3.6.8"
  }
 },
 "nbformat": 4,
 "nbformat_minor": 2
}
